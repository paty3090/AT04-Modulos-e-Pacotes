{
  "cells": [
    {
      "cell_type": "markdown",
      "metadata": {
        "id": "view-in-github",
        "colab_type": "text"
      },
      "source": [
        "<a href=\"https://colab.research.google.com/github/paty3090/AT04-Modulos-e-Pacotes/blob/main/AT_03_Dicion%C3%A1rio.ipynb\" target=\"_parent\"><img src=\"https://colab.research.google.com/assets/colab-badge.svg\" alt=\"Open In Colab\"/></a>"
      ]
    },
    {
      "cell_type": "markdown",
      "source": [
        "##Você foi contratado para analisar os resultados de uma pesquisa com números fornecidos por uma empresa. Para isso, você utilizará o módulo statistics para calcular a e a dos dados.\n",
        "\n",
        "1- Importe o módulo statistics e crie uma lista com 14 elementos contendo números em ordem crescente.\n",
        "\n"
      ],
      "metadata": {
        "id": "9pCRjS9nEXjr"
      }
    },
    {
      "cell_type": "code",
      "source": [
        "import statistics\n",
        "lista = [10, 25, 32, 44, 59, 61, 73, 84, 93, 100, 113, 112, 213, 314]"
      ],
      "metadata": {
        "id": "zx5vYBG1EZ3v"
      },
      "execution_count": 22,
      "outputs": []
    },
    {
      "cell_type": "markdown",
      "source": [
        "\n",
        "2- Calcule a média e a mediana dos valores usando o módulo completo (import statistics)."
      ],
      "metadata": {
        "id": "fJ6Gt8NwEiXM"
      }
    },
    {
      "cell_type": "code",
      "source": [
        "from re import X\n",
        "X = statistics.mean(lista)\n",
        "print(X)\n",
        "Y = statistics.median(lista)\n",
        "print(Y)"
      ],
      "metadata": {
        "colab": {
          "base_uri": "https://localhost:8080/"
        },
        "id": "n-JIkH-2EX1i",
        "outputId": "c0ccbd11-bd24-4fb3-c300-2708eee09adf"
      },
      "execution_count": 23,
      "outputs": [
        {
          "output_type": "stream",
          "name": "stdout",
          "text": [
            "95.21428571428571\n",
            "78.5\n"
          ]
        }
      ]
    },
    {
      "cell_type": "markdown",
      "source": [
        "3- Use um alias (apelido) para o módulo statistics e refaça os cálculos. Dica: import statistics as st\n"
      ],
      "metadata": {
        "id": "Zer7wBBwEYDr"
      }
    },
    {
      "cell_type": "code",
      "source": [
        "import statistics as est\n",
        "X = est.mean(lista)\n",
        "print(X)\n",
        "Y = est.median(lista)\n",
        "print(Y)"
      ],
      "metadata": {
        "colab": {
          "base_uri": "https://localhost:8080/"
        },
        "id": "P0F_AWpdEYSF",
        "outputId": "82d1f23c-e280-4f70-b1b8-f0c4883059d1"
      },
      "execution_count": 24,
      "outputs": [
        {
          "output_type": "stream",
          "name": "stdout",
          "text": [
            "95.21428571428571\n",
            "78.5\n"
          ]
        }
      ]
    },
    {
      "cell_type": "markdown",
      "source": [
        "4- Agora, importe apenas as funções mean e median do módulo statistics e refaça os cálculos.\n",
        "\n"
      ],
      "metadata": {
        "id": "ULv6eeW9EYh6"
      }
    },
    {
      "cell_type": "code",
      "source": [
        "from statistics import mean, median\n",
        "X = mean(lista)\n",
        "print(X)\n",
        "Y = median(lista)\n",
        "print(Y)"
      ],
      "metadata": {
        "colab": {
          "base_uri": "https://localhost:8080/"
        },
        "id": "d32MFlcrEYxR",
        "outputId": "1ac0197d-2a2c-4f93-91aa-64fc6ede5164"
      },
      "execution_count": 25,
      "outputs": [
        {
          "output_type": "stream",
          "name": "stdout",
          "text": [
            "95.21428571428571\n",
            "78.5\n"
          ]
        }
      ]
    },
    {
      "cell_type": "markdown",
      "source": [
        "5- Por fim, importe todas as funções do módulo statistics e calcule novamente a média e a mediana da lista."
      ],
      "metadata": {
        "id": "svwJVb4zEY_o"
      }
    },
    {
      "cell_type": "code",
      "source": [
        "from statistics import *\n",
        "X = mean(lista)\n",
        "print(X)\n",
        "Y = median(lista)\n",
        "print(Y)\n"
      ],
      "metadata": {
        "colab": {
          "base_uri": "https://localhost:8080/"
        },
        "id": "yxjJd8D8GtAc",
        "outputId": "a98c697f-02f7-4aaa-8dde-62dc2fd23fa5"
      },
      "execution_count": 26,
      "outputs": [
        {
          "output_type": "stream",
          "name": "stdout",
          "text": [
            "95.21428571428571\n",
            "78.5\n"
          ]
        }
      ]
    }
  ],
  "metadata": {
    "colab": {
      "provenance": [],
      "include_colab_link": true
    },
    "kernelspec": {
      "display_name": "Python 3",
      "name": "python3"
    }
  },
  "nbformat": 4,
  "nbformat_minor": 0
}